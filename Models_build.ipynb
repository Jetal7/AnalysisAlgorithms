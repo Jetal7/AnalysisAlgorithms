{
  "nbformat": 4,
  "nbformat_minor": 0,
  "metadata": {
    "colab": {
      "name": "TWM_LabAssignment_by_Jetal.ipynb",
      "provenance": [],
      "collapsed_sections": []
    },
    "kernelspec": {
      "name": "python3",
      "display_name": "Python 3"
    },
    "language_info": {
      "name": "python"
    }
  },
  "cells": [
    {
      "cell_type": "markdown",
      "metadata": {
        "id": "PRU_uX2LjBmI"
      },
      "source": [
        "# LAB Assignment\n",
        "---\n",
        "Implement the model:-\n",
        "1.   Association Rule Mining (Apriori Algorithm)\n",
        "2.   Decision Tree\n",
        "3.   Naive Bayes algorithm for text data\n",
        "4.   Naive Bayes algorithm\n",
        "5.   KNN algorithm\n",
        "6.   Clustering algorithm\n",
        "---\n",
        "#####These all algorithms have to be implememted as per discussion in class \n",
        "#####Note:- \n",
        "#####1. No use of any library for model building\n",
        "#####2.Data will be taken as covererd in class\n",
        "---"
      ]
    },
    {
      "cell_type": "markdown",
      "metadata": {
        "id": "ZUScAsTQi8HU"
      },
      "source": [
        "**Implemment association rule mining using Apriori algorithm using algorithm discussed in class(In Python)**\n",
        "\n",
        "Input: Data taken in class\n",
        "\n",
        "Output : Association Rules "
      ]
    },
    {
      "cell_type": "code",
      "metadata": {
        "id": "Tpd0BnJ6BYzj"
      },
      "source": [
        "import pandas as pd\n",
        "import numpy as np\n",
        "import itertools"
      ],
      "execution_count": 1,
      "outputs": []
    },
    {
      "cell_type": "code",
      "metadata": {
        "colab": {
          "base_uri": "https://localhost:8080/"
        },
        "id": "g7M4Q-LcAY6B",
        "outputId": "cce7c881-853d-4beb-e6a8-52858d789145"
      },
      "source": [
        "data = pd.read_csv('/content/drive/MyDrive/DataSet/AprioriData.csv')\n",
        "data.shape"
      ],
      "execution_count": 2,
      "outputs": [
        {
          "output_type": "execute_result",
          "data": {
            "text/plain": [
              "(5, 4)"
            ]
          },
          "metadata": {},
          "execution_count": 2
        }
      ]
    },
    {
      "cell_type": "code",
      "metadata": {
        "colab": {
          "base_uri": "https://localhost:8080/",
          "height": 204
        },
        "id": "_Q9J6e66FfAf",
        "outputId": "753a38d9-193e-4e1b-f6d6-0ac39395975f"
      },
      "source": [
        "data"
      ],
      "execution_count": 3,
      "outputs": [
        {
          "output_type": "execute_result",
          "data": {
            "text/html": [
              "<div>\n",
              "<style scoped>\n",
              "    .dataframe tbody tr th:only-of-type {\n",
              "        vertical-align: middle;\n",
              "    }\n",
              "\n",
              "    .dataframe tbody tr th {\n",
              "        vertical-align: top;\n",
              "    }\n",
              "\n",
              "    .dataframe thead th {\n",
              "        text-align: right;\n",
              "    }\n",
              "</style>\n",
              "<table border=\"1\" class=\"dataframe\">\n",
              "  <thead>\n",
              "    <tr style=\"text-align: right;\">\n",
              "      <th></th>\n",
              "      <th>Item1</th>\n",
              "      <th>Item2</th>\n",
              "      <th>Item3</th>\n",
              "      <th>Item4</th>\n",
              "    </tr>\n",
              "  </thead>\n",
              "  <tbody>\n",
              "    <tr>\n",
              "      <th>0</th>\n",
              "      <td>1</td>\n",
              "      <td>3</td>\n",
              "      <td>4.0</td>\n",
              "      <td>NaN</td>\n",
              "    </tr>\n",
              "    <tr>\n",
              "      <th>1</th>\n",
              "      <td>2</td>\n",
              "      <td>3</td>\n",
              "      <td>5.0</td>\n",
              "      <td>NaN</td>\n",
              "    </tr>\n",
              "    <tr>\n",
              "      <th>2</th>\n",
              "      <td>1</td>\n",
              "      <td>2</td>\n",
              "      <td>3.0</td>\n",
              "      <td>5.0</td>\n",
              "    </tr>\n",
              "    <tr>\n",
              "      <th>3</th>\n",
              "      <td>2</td>\n",
              "      <td>5</td>\n",
              "      <td>NaN</td>\n",
              "      <td>NaN</td>\n",
              "    </tr>\n",
              "    <tr>\n",
              "      <th>4</th>\n",
              "      <td>1</td>\n",
              "      <td>3</td>\n",
              "      <td>5.0</td>\n",
              "      <td>NaN</td>\n",
              "    </tr>\n",
              "  </tbody>\n",
              "</table>\n",
              "</div>"
            ],
            "text/plain": [
              "   Item1  Item2  Item3  Item4\n",
              "0      1      3    4.0    NaN\n",
              "1      2      3    5.0    NaN\n",
              "2      1      2    3.0    5.0\n",
              "3      2      5    NaN    NaN\n",
              "4      1      3    5.0    NaN"
            ]
          },
          "metadata": {},
          "execution_count": 3
        }
      ]
    },
    {
      "cell_type": "code",
      "metadata": {
        "colab": {
          "base_uri": "https://localhost:8080/"
        },
        "id": "jBtcqXotBfAR",
        "outputId": "d9aab81e-bf18-436f-e67a-dc0350b69c6f"
      },
      "source": [
        "minimum_support_count = 2\n",
        "records = []\n",
        "for i in range(0, 5):\n",
        "    records.append([str(data.values[i,j]) for j in range(0,4)])\n",
        "\n",
        "items = sorted([item for sublist in records for item in sublist if item != 'nan'])\n",
        "print(items)"
      ],
      "execution_count": 4,
      "outputs": [
        {
          "output_type": "stream",
          "name": "stdout",
          "text": [
            "['1.0', '1.0', '1.0', '2.0', '2.0', '2.0', '3.0', '3.0', '3.0', '3.0', '4.0', '5.0', '5.0', '5.0', '5.0']\n"
          ]
        }
      ]
    },
    {
      "cell_type": "code",
      "metadata": {
        "id": "41uXdBvYBiPC"
      },
      "source": [
        "#Here in 1st iterarion, candidate item set CI1 is generated. Item set FI1 is generated by comparing CI1 support_count with minimum support count.\n",
        "def stage_1(items, minimum_support_count):\n",
        "    c1 = {i:items.count(i) for i in items}\n",
        "    l1 = {}\n",
        "    for key, value in c1.items():\n",
        "        if value >= minimum_support_count:\n",
        "           l1[key] = value \n",
        "    \n",
        "    return c1, l1\n"
      ],
      "execution_count": 5,
      "outputs": []
    },
    {
      "cell_type": "code",
      "metadata": {
        "id": "6qzBYky2BrQ9"
      },
      "source": [
        "#After 1st iteraation,in 2st iterarion, candidate item set C2 is generated. Item set l2 is generated by comparing C1 support_count with minimum support count.\n",
        "def stage_2(l1, records, minimum_support_count):\n",
        "    l1 = sorted(list(l1.keys()))\n",
        "    L1 = list(itertools.combinations(l1, 2))\n",
        "    c2 = {}\n",
        "    l2 = {}\n",
        "    for iter1 in L1:\n",
        "        count = 0\n",
        "        for iter2 in records:\n",
        "            if sublist(iter1, iter2):\n",
        "                count+=1\n",
        "        c2[iter1] = count\n",
        "    for key, value in c2.items():\n",
        "        if value >= minimum_support_count:\n",
        "            if check_subset_frequency(key, l1, 1):\n",
        "                l2[key] = value \n",
        "    \n",
        "    return c2, l2"
      ],
      "execution_count": 6,
      "outputs": []
    },
    {
      "cell_type": "code",
      "metadata": {
        "id": "GKwQilHABv4w"
      },
      "source": [
        "def stage_3(l2, records, minimum_support_count):\n",
        "    l2 = list(l2.keys())\n",
        "    L2 = sorted(list(set([item for t in l2 for item in t])))\n",
        "    L2 = list(itertools.combinations(L2, 3))\n",
        "    c3 = {}\n",
        "    l3 = {}\n",
        "    for iter1 in L2:\n",
        "        count = 0\n",
        "        for iter2 in records:\n",
        "            if sublist(iter1, iter2):\n",
        "                count+=1\n",
        "        c3[iter1] = count\n",
        "    for key, value in c3.items():\n",
        "        if value >= minimum_support_count:\n",
        "            if check_subset_frequency(key, l2, 2):\n",
        "                l3[key] = value \n",
        "        \n",
        "    return c3, l3"
      ],
      "execution_count": 7,
      "outputs": []
    },
    {
      "cell_type": "code",
      "metadata": {
        "id": "9Q6FCzSVByZF"
      },
      "source": [
        "def stage_4(l3, records, minimum_support_count):\n",
        "    l3 = list(l3.keys())\n",
        "    L3 = sorted(list(set([item for t in l3 for item in t])))\n",
        "    L3 = list(itertools.combinations(L3, 4))\n",
        "    c4 = {}\n",
        "    l4 = {}\n",
        "    for iter1 in L3:\n",
        "        count = 0\n",
        "        for iter2 in records:\n",
        "            if sublist(iter1, iter2):\n",
        "                count+=1\n",
        "        c4[iter1] = count\n",
        "    for key, value in c4.items():\n",
        "        if value >= minimum_support_count:\n",
        "            if check_subset_frequency(key, l3, 3):\n",
        "                l4[key] = value \n",
        "        \n",
        "    return c4, l4"
      ],
      "execution_count": 8,
      "outputs": []
    },
    {
      "cell_type": "code",
      "metadata": {
        "id": "iNV_slTmB03V"
      },
      "source": [
        "def sublist(lst1, lst2):\n",
        "    return set(lst1) <= set(lst2)"
      ],
      "execution_count": 9,
      "outputs": []
    },
    {
      "cell_type": "code",
      "metadata": {
        "id": "WT54OflJB3KE"
      },
      "source": [
        "def check_subset_frequency(itemset, l, n):\n",
        "    if n>1:    \n",
        "        subsets = list(itertools.combinations(itemset, n))\n",
        "    else:\n",
        "        subsets = itemset\n",
        "    for iter1 in subsets:\n",
        "        if not iter1 in l:\n",
        "            return False\n",
        "    return True"
      ],
      "execution_count": 10,
      "outputs": []
    },
    {
      "cell_type": "code",
      "metadata": {
        "colab": {
          "base_uri": "https://localhost:8080/"
        },
        "id": "ChMX3f56B5O4",
        "outputId": "b4aff52c-0907-46e1-bb73-11accfab6a53"
      },
      "source": [
        "c1, l1 = stage_1(items, minimum_support_count)\n",
        "c2, l2 = stage_2(l1, records, minimum_support_count)\n",
        "c3, l3 = stage_3(l2, records, minimum_support_count)\n",
        "c4, l4 = stage_4(l3, records, minimum_support_count)\n",
        "print(\"L1 => \", l1)\n",
        "print(\"L2 => \", l2)\n",
        "print(\"L3 => \", l3)\n",
        "print(\"L4 => \", l4)"
      ],
      "execution_count": 11,
      "outputs": [
        {
          "output_type": "stream",
          "name": "stdout",
          "text": [
            "L1 =>  {'1.0': 3, '2.0': 3, '3.0': 4, '5.0': 4}\n",
            "L2 =>  {('1.0', '3.0'): 3, ('1.0', '5.0'): 2, ('2.0', '3.0'): 2, ('2.0', '5.0'): 3, ('3.0', '5.0'): 3}\n",
            "L3 =>  {('1.0', '3.0', '5.0'): 2, ('2.0', '3.0', '5.0'): 2}\n",
            "L4 =>  {}\n"
          ]
        }
      ]
    },
    {
      "cell_type": "code",
      "metadata": {
        "id": "ZZ_0BjfQB7-D",
        "colab": {
          "base_uri": "https://localhost:8080/"
        },
        "outputId": "3cb97c6b-56cd-42ea-ce2f-23dc72e607e1"
      },
      "source": [
        "itemlist = {**l1, **l2, **l3, **l4}\n",
        "\n",
        "def support_count(itemset, itemlist):\n",
        "    return itemlist[itemset]\n",
        "\n",
        "sets = []\n",
        "for iter1 in list(l3.keys()):\n",
        "    subsets = list(itertools.combinations(iter1, 2))\n",
        "    sets.append(subsets)\n",
        "\n",
        "list_l3 = list(l3.keys())\n",
        "for i in range(0, len(list_l3)):\n",
        "    for iter1 in sets[i]:\n",
        "        a = iter1\n",
        "        b = set(list_l3[i]) - set(iter1)\n",
        "        confidence = (support_count(list_l3[i], itemlist)/support_count(iter1, itemlist))*100\n",
        "        print(\"Confidence{}->{} = \".format(a,b), confidence)"
      ],
      "execution_count": 12,
      "outputs": [
        {
          "output_type": "stream",
          "name": "stdout",
          "text": [
            "Confidence('1.0', '3.0')->{'5.0'} =  66.66666666666666\n",
            "Confidence('1.0', '5.0')->{'3.0'} =  100.0\n",
            "Confidence('3.0', '5.0')->{'1.0'} =  66.66666666666666\n",
            "Confidence('2.0', '3.0')->{'5.0'} =  100.0\n",
            "Confidence('2.0', '5.0')->{'3.0'} =  66.66666666666666\n",
            "Confidence('3.0', '5.0')->{'2.0'} =  66.66666666666666\n"
          ]
        }
      ]
    },
    {
      "cell_type": "markdown",
      "metadata": {
        "id": "ntcsezxwi79d"
      },
      "source": [
        "---\n",
        "**Implement decision tree algorithm using algorithm discussed in class(in Python)**\n",
        "\n",
        "Input: Data taken in class \n",
        "\n",
        "Output : Decision tree \n",
        "\n",
        "---"
      ]
    },
    {
      "cell_type": "code",
      "metadata": {
        "id": "FB1NPS69AYOr"
      },
      "source": [
        "import pandas as pd\n",
        "import numpy as np"
      ],
      "execution_count": 13,
      "outputs": []
    },
    {
      "cell_type": "code",
      "metadata": {
        "colab": {
          "base_uri": "https://localhost:8080/",
          "height": 483
        },
        "id": "HZH9t8_-UQyo",
        "outputId": "0c29212d-b057-4f23-f36a-7c93ea56eec6"
      },
      "source": [
        "df = pd.read_csv('/content/drive/MyDrive/DataSet/DtreeData.csv')\n",
        "df"
      ],
      "execution_count": 14,
      "outputs": [
        {
          "output_type": "execute_result",
          "data": {
            "text/html": [
              "<div>\n",
              "<style scoped>\n",
              "    .dataframe tbody tr th:only-of-type {\n",
              "        vertical-align: middle;\n",
              "    }\n",
              "\n",
              "    .dataframe tbody tr th {\n",
              "        vertical-align: top;\n",
              "    }\n",
              "\n",
              "    .dataframe thead th {\n",
              "        text-align: right;\n",
              "    }\n",
              "</style>\n",
              "<table border=\"1\" class=\"dataframe\">\n",
              "  <thead>\n",
              "    <tr style=\"text-align: right;\">\n",
              "      <th></th>\n",
              "      <th>Outlook</th>\n",
              "      <th>Humidity</th>\n",
              "      <th>Wind</th>\n",
              "      <th>Play</th>\n",
              "    </tr>\n",
              "  </thead>\n",
              "  <tbody>\n",
              "    <tr>\n",
              "      <th>0</th>\n",
              "      <td>Sunny</td>\n",
              "      <td>High</td>\n",
              "      <td>weak</td>\n",
              "      <td>no</td>\n",
              "    </tr>\n",
              "    <tr>\n",
              "      <th>1</th>\n",
              "      <td>Sunny</td>\n",
              "      <td>High</td>\n",
              "      <td>strong</td>\n",
              "      <td>no</td>\n",
              "    </tr>\n",
              "    <tr>\n",
              "      <th>2</th>\n",
              "      <td>Overcast</td>\n",
              "      <td>High</td>\n",
              "      <td>weak</td>\n",
              "      <td>yes</td>\n",
              "    </tr>\n",
              "    <tr>\n",
              "      <th>3</th>\n",
              "      <td>Rain</td>\n",
              "      <td>High</td>\n",
              "      <td>weak</td>\n",
              "      <td>yes</td>\n",
              "    </tr>\n",
              "    <tr>\n",
              "      <th>4</th>\n",
              "      <td>Rain</td>\n",
              "      <td>Normal</td>\n",
              "      <td>weak</td>\n",
              "      <td>yes</td>\n",
              "    </tr>\n",
              "    <tr>\n",
              "      <th>5</th>\n",
              "      <td>Rain</td>\n",
              "      <td>Normal</td>\n",
              "      <td>strong</td>\n",
              "      <td>no</td>\n",
              "    </tr>\n",
              "    <tr>\n",
              "      <th>6</th>\n",
              "      <td>Overcast</td>\n",
              "      <td>Normal</td>\n",
              "      <td>strong</td>\n",
              "      <td>yes</td>\n",
              "    </tr>\n",
              "    <tr>\n",
              "      <th>7</th>\n",
              "      <td>Sunny</td>\n",
              "      <td>High</td>\n",
              "      <td>weak</td>\n",
              "      <td>no</td>\n",
              "    </tr>\n",
              "    <tr>\n",
              "      <th>8</th>\n",
              "      <td>Sunny</td>\n",
              "      <td>Normal</td>\n",
              "      <td>weak</td>\n",
              "      <td>yes</td>\n",
              "    </tr>\n",
              "    <tr>\n",
              "      <th>9</th>\n",
              "      <td>Rain</td>\n",
              "      <td>Normal</td>\n",
              "      <td>weak</td>\n",
              "      <td>yes</td>\n",
              "    </tr>\n",
              "    <tr>\n",
              "      <th>10</th>\n",
              "      <td>Sunny</td>\n",
              "      <td>Normal</td>\n",
              "      <td>strong</td>\n",
              "      <td>yes</td>\n",
              "    </tr>\n",
              "    <tr>\n",
              "      <th>11</th>\n",
              "      <td>Overcast</td>\n",
              "      <td>High</td>\n",
              "      <td>strong</td>\n",
              "      <td>yes</td>\n",
              "    </tr>\n",
              "    <tr>\n",
              "      <th>12</th>\n",
              "      <td>Overcast</td>\n",
              "      <td>Normal</td>\n",
              "      <td>weak</td>\n",
              "      <td>yes</td>\n",
              "    </tr>\n",
              "    <tr>\n",
              "      <th>13</th>\n",
              "      <td>Rain</td>\n",
              "      <td>High</td>\n",
              "      <td>strong</td>\n",
              "      <td>no</td>\n",
              "    </tr>\n",
              "  </tbody>\n",
              "</table>\n",
              "</div>"
            ],
            "text/plain": [
              "     Outlook Humidity    Wind Play\n",
              "0      Sunny     High    weak   no\n",
              "1      Sunny     High  strong   no\n",
              "2   Overcast     High    weak  yes\n",
              "3       Rain     High    weak  yes\n",
              "4       Rain   Normal    weak  yes\n",
              "5       Rain   Normal  strong   no\n",
              "6   Overcast   Normal  strong  yes\n",
              "7      Sunny     High    weak   no\n",
              "8      Sunny   Normal    weak  yes\n",
              "9       Rain   Normal    weak  yes\n",
              "10     Sunny   Normal  strong  yes\n",
              "11  Overcast     High  strong  yes\n",
              "12  Overcast   Normal    weak  yes\n",
              "13      Rain     High  strong   no"
            ]
          },
          "metadata": {},
          "execution_count": 14
        }
      ]
    },
    {
      "cell_type": "code",
      "metadata": {
        "id": "lveY_HYSUbsX"
      },
      "source": [
        "def calculate_entropy(df_label):\n",
        "    classes,class_counts = np.unique(df_label,return_counts = True)\n",
        "    entropy_value = np.sum([(-class_counts[i]/np.sum(class_counts))*np.log2(class_counts[i]/np.sum(class_counts)) \n",
        "                        for i in range(len(classes))])\n",
        "    return entropy_value"
      ],
      "execution_count": 15,
      "outputs": []
    },
    {
      "cell_type": "code",
      "metadata": {
        "id": "JBc-02gYUe2S"
      },
      "source": [
        "def calculate_information_gain(dataset,feature,label): \n",
        "    # Calculate the dataset entropy\n",
        "    dataset_entropy = calculate_entropy(dataset[label])   \n",
        "    values,feat_counts= np.unique(dataset[feature],return_counts=True)\n",
        "    \n",
        "    # Calculate the weighted feature entropy                                # Call the calculate_entropy function\n",
        "    weighted_feature_entropy = np.sum([(feat_counts[i]/np.sum(feat_counts))*calculate_entropy(dataset.where(dataset[feature]\n",
        "                              ==values[i]).dropna()[label]) for i in range(len(values))])    \n",
        "    feature_info_gain = dataset_entropy - weighted_feature_entropy\n",
        "    return feature_info_gain"
      ],
      "execution_count": 16,
      "outputs": []
    },
    {
      "cell_type": "code",
      "metadata": {
        "id": "0PixTqpfUfev"
      },
      "source": [
        "def create_decision_tree(dataset,df,features,label,parent):\n",
        "  datum = np.unique(dataset[label],return_counts = True)\n",
        "  unique_data = np.unique(dataset[label])\n",
        "\n",
        "  if len(unique_data) <= 1:\n",
        "    return unique_data[0]\n",
        "\n",
        "  elif len(dataset) == 0:\n",
        "    return unique_data[np.argmax(datum[1])]\n",
        "\n",
        "  elif len(features) == 0:\n",
        "    return parent\n",
        "\n",
        "  else:\n",
        "    parent = unique_data[np.argmax(datum[1])]\n",
        "\n",
        "    item_values = [calculate_information_gain(dataset,features,label) for feature in features]\n",
        "\n",
        "    optimum_feature_index = np.argmax(item_values)\n",
        "    optimum_feature = features[optimum_feature_index]\n",
        "    decision_tree = {optimum_feature:{}}\n",
        "    features = [i for i in features if i != optimum_feature]\n",
        "\n",
        "    for value in np.unique(dataset[optimum_feature]):\n",
        "                           min_data = dataset.where(dataset[optimum_feature] == value).dropna()\n",
        "                           min_tree = create_decision_tree(min_data,df,features,label,parent) \n",
        "                           decision_tree[optimum_feature][value] = min_tree\n",
        "    return(decision_tree)"
      ],
      "execution_count": 17,
      "outputs": []
    },
    {
      "cell_type": "code",
      "metadata": {
        "id": "AHgJEl0AUj_u"
      },
      "source": [
        "def predict_play(test_data,decision_tree):\n",
        "\n",
        "  for nodes in decision_tree.keys():\n",
        "    value = test_data[nodes]\n",
        "    decision_tree = decision_tree[nodes][value]\n",
        "\n",
        "    prediction = 0\n",
        "    if type(decision_tree) is dict:\n",
        "\n",
        "      prediction = predict_play(test_data, decision_tree)\n",
        "    else:\n",
        "      prediction = decision_tree\n",
        "      break;\n",
        "    \n",
        "  return prediction"
      ],
      "execution_count": 18,
      "outputs": []
    },
    {
      "cell_type": "code",
      "metadata": {
        "colab": {
          "base_uri": "https://localhost:8080/"
        },
        "id": "FPDKr_bYUlGX",
        "outputId": "95373e3d-bc8a-440d-b7ea-69e070505db9"
      },
      "source": [
        "features = df.columns[:-1]\n",
        "label = \"Play\"\n",
        "parent= None\n",
        "features\n"
      ],
      "execution_count": 19,
      "outputs": [
        {
          "output_type": "execute_result",
          "data": {
            "text/plain": [
              "Index(['Outlook', 'Humidity', 'Wind'], dtype='object')"
            ]
          },
          "metadata": {},
          "execution_count": 19
        }
      ]
    },
    {
      "cell_type": "code",
      "metadata": {
        "colab": {
          "base_uri": "https://localhost:8080/"
        },
        "id": "RYt0FQWkUnoC",
        "outputId": "474cff1f-8b90-4b9f-d832-1e86dcf2acee"
      },
      "source": [
        "decision_tree = create_decision_tree(df,df,features,label,parent)\n",
        "decision_tree"
      ],
      "execution_count": 20,
      "outputs": [
        {
          "output_type": "execute_result",
          "data": {
            "text/plain": [
              "{'Outlook': {'Overcast': 'yes',\n",
              "  'Rain': {'Humidity': {'High': {'Wind': {'strong': 'no', 'weak': 'yes'}},\n",
              "    'Normal': {'Wind': {'strong': 'no', 'weak': 'yes'}}}},\n",
              "  'Sunny': {'Humidity': {'High': 'no', 'Normal': 'yes'}}}}"
            ]
          },
          "metadata": {},
          "execution_count": 20
        }
      ]
    },
    {
      "cell_type": "code",
      "metadata": {
        "colab": {
          "base_uri": "https://localhost:8080/"
        },
        "id": "jTCSo9FOUp5H",
        "outputId": "8c197d7a-2cee-4870-ba64-92b975c1b129"
      },
      "source": [
        "sample_data = {'Outlook':'Rain','Humidity':'High','Wind':'weak'}\n",
        "test_data = pd.Series(sample_data)\n",
        "prediction = predict_play(test_data,decision_tree)\n",
        "print(prediction)"
      ],
      "execution_count": 21,
      "outputs": [
        {
          "output_type": "stream",
          "name": "stdout",
          "text": [
            "yes\n"
          ]
        }
      ]
    },
    {
      "cell_type": "markdown",
      "metadata": {
        "id": "IhfbMCJDi73n"
      },
      "source": [
        "---\n",
        "**Implement Naive Bayes algorithm for text data**\n",
        "\n",
        "Input: Document data taken in class\n",
        "\n",
        "Output: Predictive Model\n",
        "\n",
        "---\n"
      ]
    },
    {
      "cell_type": "code",
      "metadata": {
        "colab": {
          "base_uri": "https://localhost:8080/",
          "height": 204
        },
        "id": "_c04ywtg-ysZ",
        "outputId": "842f797e-1253-4c5f-f70b-6f83176f2e6b"
      },
      "source": [
        "import pandas as pd\n",
        "\n",
        "columns = ['sent', 'class']\n",
        "rows = []\n",
        "\n",
        "rows = [['I loved the movie', '+'], \n",
        "        ['I hated the movie', '-'],\n",
        "        ['a great movie.good movie', '+'],\n",
        "        ['poor acting', '-'],\n",
        "        ['great acting. a good movie', '+']]\n",
        "\n",
        "training_data = pd.DataFrame(rows, columns=columns)\n",
        "training_data"
      ],
      "execution_count": 22,
      "outputs": [
        {
          "output_type": "execute_result",
          "data": {
            "text/html": [
              "<div>\n",
              "<style scoped>\n",
              "    .dataframe tbody tr th:only-of-type {\n",
              "        vertical-align: middle;\n",
              "    }\n",
              "\n",
              "    .dataframe tbody tr th {\n",
              "        vertical-align: top;\n",
              "    }\n",
              "\n",
              "    .dataframe thead th {\n",
              "        text-align: right;\n",
              "    }\n",
              "</style>\n",
              "<table border=\"1\" class=\"dataframe\">\n",
              "  <thead>\n",
              "    <tr style=\"text-align: right;\">\n",
              "      <th></th>\n",
              "      <th>sent</th>\n",
              "      <th>class</th>\n",
              "    </tr>\n",
              "  </thead>\n",
              "  <tbody>\n",
              "    <tr>\n",
              "      <th>0</th>\n",
              "      <td>I loved the movie</td>\n",
              "      <td>+</td>\n",
              "    </tr>\n",
              "    <tr>\n",
              "      <th>1</th>\n",
              "      <td>I hated the movie</td>\n",
              "      <td>-</td>\n",
              "    </tr>\n",
              "    <tr>\n",
              "      <th>2</th>\n",
              "      <td>a great movie.good movie</td>\n",
              "      <td>+</td>\n",
              "    </tr>\n",
              "    <tr>\n",
              "      <th>3</th>\n",
              "      <td>poor acting</td>\n",
              "      <td>-</td>\n",
              "    </tr>\n",
              "    <tr>\n",
              "      <th>4</th>\n",
              "      <td>great acting. a good movie</td>\n",
              "      <td>+</td>\n",
              "    </tr>\n",
              "  </tbody>\n",
              "</table>\n",
              "</div>"
            ],
            "text/plain": [
              "                         sent class\n",
              "0           I loved the movie     +\n",
              "1           I hated the movie     -\n",
              "2    a great movie.good movie     +\n",
              "3                 poor acting     -\n",
              "4  great acting. a good movie     +"
            ]
          },
          "metadata": {},
          "execution_count": 22
        }
      ]
    },
    {
      "cell_type": "code",
      "metadata": {
        "colab": {
          "base_uri": "https://localhost:8080/",
          "height": 142
        },
        "id": "WrS5rs0W-1KR",
        "outputId": "ec3870b3-da4f-4678-d225-d1bb872db1da"
      },
      "source": [
        "from sklearn.feature_extraction.text import CountVectorizer\n",
        "\n",
        "stmt_docs = [row['sent'] for index,row in training_data.iterrows() if row['class'] == '+']\n",
        "\n",
        "vec_s = CountVectorizer()\n",
        "X_s = vec_s.fit_transform(stmt_docs)\n",
        "tdm_s = pd.DataFrame(X_s.toarray(), columns=vec_s.get_feature_names())\n",
        "\n",
        "tdm_s"
      ],
      "execution_count": 23,
      "outputs": [
        {
          "output_type": "execute_result",
          "data": {
            "text/html": [
              "<div>\n",
              "<style scoped>\n",
              "    .dataframe tbody tr th:only-of-type {\n",
              "        vertical-align: middle;\n",
              "    }\n",
              "\n",
              "    .dataframe tbody tr th {\n",
              "        vertical-align: top;\n",
              "    }\n",
              "\n",
              "    .dataframe thead th {\n",
              "        text-align: right;\n",
              "    }\n",
              "</style>\n",
              "<table border=\"1\" class=\"dataframe\">\n",
              "  <thead>\n",
              "    <tr style=\"text-align: right;\">\n",
              "      <th></th>\n",
              "      <th>acting</th>\n",
              "      <th>good</th>\n",
              "      <th>great</th>\n",
              "      <th>loved</th>\n",
              "      <th>movie</th>\n",
              "      <th>the</th>\n",
              "    </tr>\n",
              "  </thead>\n",
              "  <tbody>\n",
              "    <tr>\n",
              "      <th>0</th>\n",
              "      <td>0</td>\n",
              "      <td>0</td>\n",
              "      <td>0</td>\n",
              "      <td>1</td>\n",
              "      <td>1</td>\n",
              "      <td>1</td>\n",
              "    </tr>\n",
              "    <tr>\n",
              "      <th>1</th>\n",
              "      <td>0</td>\n",
              "      <td>1</td>\n",
              "      <td>1</td>\n",
              "      <td>0</td>\n",
              "      <td>2</td>\n",
              "      <td>0</td>\n",
              "    </tr>\n",
              "    <tr>\n",
              "      <th>2</th>\n",
              "      <td>1</td>\n",
              "      <td>1</td>\n",
              "      <td>1</td>\n",
              "      <td>0</td>\n",
              "      <td>1</td>\n",
              "      <td>0</td>\n",
              "    </tr>\n",
              "  </tbody>\n",
              "</table>\n",
              "</div>"
            ],
            "text/plain": [
              "   acting  good  great  loved  movie  the\n",
              "0       0     0      0      1      1    1\n",
              "1       0     1      1      0      2    0\n",
              "2       1     1      1      0      1    0"
            ]
          },
          "metadata": {},
          "execution_count": 23
        }
      ]
    },
    {
      "cell_type": "code",
      "metadata": {
        "colab": {
          "base_uri": "https://localhost:8080/",
          "height": 111
        },
        "id": "ERnG3_ZB-1vP",
        "outputId": "2bf87c71-74f0-43ea-819e-07211a2d6da4"
      },
      "source": [
        "q_docs = [row['sent'] for index,row in training_data.iterrows() if row['class'] == '-']\n",
        "\n",
        "vec_q = CountVectorizer()\n",
        "X_q = vec_q.fit_transform(q_docs)\n",
        "tdm_q = pd.DataFrame(X_q.toarray(), columns=vec_q.get_feature_names())\n",
        "\n",
        "tdm_q"
      ],
      "execution_count": 24,
      "outputs": [
        {
          "output_type": "execute_result",
          "data": {
            "text/html": [
              "<div>\n",
              "<style scoped>\n",
              "    .dataframe tbody tr th:only-of-type {\n",
              "        vertical-align: middle;\n",
              "    }\n",
              "\n",
              "    .dataframe tbody tr th {\n",
              "        vertical-align: top;\n",
              "    }\n",
              "\n",
              "    .dataframe thead th {\n",
              "        text-align: right;\n",
              "    }\n",
              "</style>\n",
              "<table border=\"1\" class=\"dataframe\">\n",
              "  <thead>\n",
              "    <tr style=\"text-align: right;\">\n",
              "      <th></th>\n",
              "      <th>acting</th>\n",
              "      <th>hated</th>\n",
              "      <th>movie</th>\n",
              "      <th>poor</th>\n",
              "      <th>the</th>\n",
              "    </tr>\n",
              "  </thead>\n",
              "  <tbody>\n",
              "    <tr>\n",
              "      <th>0</th>\n",
              "      <td>0</td>\n",
              "      <td>1</td>\n",
              "      <td>1</td>\n",
              "      <td>0</td>\n",
              "      <td>1</td>\n",
              "    </tr>\n",
              "    <tr>\n",
              "      <th>1</th>\n",
              "      <td>1</td>\n",
              "      <td>0</td>\n",
              "      <td>0</td>\n",
              "      <td>1</td>\n",
              "      <td>0</td>\n",
              "    </tr>\n",
              "  </tbody>\n",
              "</table>\n",
              "</div>"
            ],
            "text/plain": [
              "   acting  hated  movie  poor  the\n",
              "0       0      1      1     0    1\n",
              "1       1      0      0     1    0"
            ]
          },
          "metadata": {},
          "execution_count": 24
        }
      ]
    },
    {
      "cell_type": "code",
      "metadata": {
        "colab": {
          "base_uri": "https://localhost:8080/"
        },
        "id": "sQjXgGqk-31a",
        "outputId": "7228ab71-d95f-4acf-b21d-c8430ce9f323"
      },
      "source": [
        "word_list_s = vec_s.get_feature_names();    \n",
        "count_list_s = X_s.toarray().sum(axis=0) \n",
        "freq_s = dict(zip(word_list_s,count_list_s))\n",
        "freq_s"
      ],
      "execution_count": 25,
      "outputs": [
        {
          "output_type": "execute_result",
          "data": {
            "text/plain": [
              "{'acting': 1, 'good': 2, 'great': 2, 'loved': 1, 'movie': 4, 'the': 1}"
            ]
          },
          "metadata": {},
          "execution_count": 25
        }
      ]
    },
    {
      "cell_type": "code",
      "metadata": {
        "colab": {
          "base_uri": "https://localhost:8080/"
        },
        "id": "q-EHIdfK-5wg",
        "outputId": "24c6329b-d51e-4006-9281-8aa241a584d4"
      },
      "source": [
        "word_list_q = vec_q.get_feature_names();    \n",
        "count_list_q = X_q.toarray().sum(axis=0) \n",
        "freq_q = dict(zip(word_list_q,count_list_q))\n",
        "freq_q"
      ],
      "execution_count": 26,
      "outputs": [
        {
          "output_type": "execute_result",
          "data": {
            "text/plain": [
              "{'acting': 1, 'hated': 1, 'movie': 1, 'poor': 1, 'the': 1}"
            ]
          },
          "metadata": {},
          "execution_count": 26
        }
      ]
    },
    {
      "cell_type": "code",
      "metadata": {
        "colab": {
          "base_uri": "https://localhost:8080/"
        },
        "id": "0XZdbC7n-7qn",
        "outputId": "4bc37773-b09d-4eed-89e5-8a0067bf4dba"
      },
      "source": [
        "from sklearn.feature_extraction.text import CountVectorizer\n",
        "\n",
        "docs = [row['sent'] for index,row in training_data.iterrows()]\n",
        "\n",
        "vec = CountVectorizer()\n",
        "X = vec.fit_transform(docs)\n",
        "\n",
        "total_features = len(vec.get_feature_names())\n",
        "total_features"
      ],
      "execution_count": 27,
      "outputs": [
        {
          "output_type": "execute_result",
          "data": {
            "text/plain": [
              "8"
            ]
          },
          "metadata": {},
          "execution_count": 27
        }
      ]
    },
    {
      "cell_type": "code",
      "metadata": {
        "id": "jStCpsFc-973"
      },
      "source": [
        "total_cnts_features_s = count_list_s.sum(axis=0)\n",
        "total_cnts_features_q = count_list_q.sum(axis=0)"
      ],
      "execution_count": 28,
      "outputs": []
    },
    {
      "cell_type": "code",
      "metadata": {
        "colab": {
          "base_uri": "https://localhost:8080/"
        },
        "id": "BB2Ff6tY_AK3",
        "outputId": "45872c15-583a-4f6e-caf6-68cf211a2bb9"
      },
      "source": [
        "import nltk\n",
        "nltk.download('punkt')\n",
        "from nltk.tokenize import word_tokenize\n",
        "new_sentence = 'I hated the poor acting'\n",
        "new_word_list = word_tokenize(new_sentence)"
      ],
      "execution_count": 29,
      "outputs": [
        {
          "output_type": "stream",
          "name": "stdout",
          "text": [
            "[nltk_data] Downloading package punkt to /root/nltk_data...\n",
            "[nltk_data]   Package punkt is already up-to-date!\n"
          ]
        }
      ]
    },
    {
      "cell_type": "code",
      "metadata": {
        "colab": {
          "base_uri": "https://localhost:8080/"
        },
        "id": "ZVjqMfAA_CUH",
        "outputId": "5a195ad6-cee3-47f4-f3bb-eb1b6c5cccd3"
      },
      "source": [
        "prob_s_with_ls = []\n",
        "for word in new_word_list:\n",
        "    if word in freq_s.keys():\n",
        "        count = freq_s[word]\n",
        "    else:\n",
        "        count = 0\n",
        "    prob_s_with_ls.append((count + 1)/(total_cnts_features_s + total_features))\n",
        "dict(zip(new_word_list,prob_s_with_ls))"
      ],
      "execution_count": 30,
      "outputs": [
        {
          "output_type": "execute_result",
          "data": {
            "text/plain": [
              "{'I': 0.05263157894736842,\n",
              " 'acting': 0.10526315789473684,\n",
              " 'hated': 0.05263157894736842,\n",
              " 'poor': 0.05263157894736842,\n",
              " 'the': 0.10526315789473684}"
            ]
          },
          "metadata": {},
          "execution_count": 30
        }
      ]
    },
    {
      "cell_type": "code",
      "metadata": {
        "colab": {
          "base_uri": "https://localhost:8080/"
        },
        "id": "-Gey5FOy_Gdl",
        "outputId": "2a4a31dc-97a0-4205-9ef5-8b43f069a8bf"
      },
      "source": [
        "prob_q_with_ls = []\n",
        "for word in new_word_list:\n",
        "    if word in freq_q.keys():\n",
        "        count = freq_q[word]\n",
        "    else:\n",
        "        count = 0\n",
        "    prob_q_with_ls.append((count + 1)/(total_cnts_features_q + total_features))\n",
        "dict(zip(new_word_list,prob_q_with_ls))"
      ],
      "execution_count": 31,
      "outputs": [
        {
          "output_type": "execute_result",
          "data": {
            "text/plain": [
              "{'I': 0.07692307692307693,\n",
              " 'acting': 0.15384615384615385,\n",
              " 'hated': 0.15384615384615385,\n",
              " 'poor': 0.15384615384615385,\n",
              " 'the': 0.15384615384615385}"
            ]
          },
          "metadata": {},
          "execution_count": 31
        }
      ]
    },
    {
      "cell_type": "markdown",
      "metadata": {
        "id": "Ngo_WqTCi7w8"
      },
      "source": [
        "---\n",
        "**Implemement Naive Bayes algorithm and use data as discussed in class**\n",
        "\n",
        "---\n"
      ]
    },
    {
      "cell_type": "code",
      "metadata": {
        "id": "GIVJln6EWVdM"
      },
      "source": [
        "import numpy as np\n",
        "import pandas as pd\n",
        "\n",
        "df = pd.read_csv(\"/content/drive/MyDrive/DataSet/Weather.csv\")\n",
        "X = df.drop([df.columns[-1]],axis = 1)\n",
        "y = df[df.columns[-1]]"
      ],
      "execution_count": 32,
      "outputs": []
    },
    {
      "cell_type": "code",
      "metadata": {
        "colab": {
          "base_uri": "https://localhost:8080/"
        },
        "id": "2MuVOegjXCZU",
        "outputId": "dfc65737-303a-430d-d323-2991b120f0a4"
      },
      "source": [
        "features = list(X.columns)\n",
        "print(features)"
      ],
      "execution_count": 33,
      "outputs": [
        {
          "output_type": "stream",
          "name": "stdout",
          "text": [
            "['Outlook', 'Temp', 'Humidity', 'Windy']\n"
          ]
        }
      ]
    },
    {
      "cell_type": "code",
      "metadata": {
        "id": "zB-KR3fwXLFm"
      },
      "source": [
        "X_train = X\n",
        "y_train = y\n",
        "train_size = X.shape [0]\n",
        "num_feats = X.shape[1]"
      ],
      "execution_count": 34,
      "outputs": []
    },
    {
      "cell_type": "code",
      "metadata": {
        "id": "I98kD2_JXXw3"
      },
      "source": [
        "likelihoods = {}\n",
        "Class_priors = {}\n",
        "pred_priors = {}"
      ],
      "execution_count": 35,
      "outputs": []
    },
    {
      "cell_type": "code",
      "metadata": {
        "id": "VkNU0M_fXkzv"
      },
      "source": [
        "for feature in features:\n",
        "  likelihoods[feature] = {}\n",
        "  pred_priors[feature] = {}\n",
        "\n",
        "  for feat_val in np.unique(X_train[feature]):\n",
        "    pred_priors[feature].update({feat_val:0})\n",
        "\n",
        "    for outcome in np.unique(y_train):\n",
        "      likelihoods[feature].update({feat_val+'_'+outcome:0})\n",
        "      Class_priors.update({outcome:0})"
      ],
      "execution_count": 36,
      "outputs": []
    },
    {
      "cell_type": "code",
      "metadata": {
        "colab": {
          "base_uri": "https://localhost:8080/"
        },
        "id": "80dRIyDTYkDw",
        "outputId": "b7182d79-65ad-42c6-b7a4-d7488447fdf5"
      },
      "source": [
        "print(Class_priors)"
      ],
      "execution_count": 37,
      "outputs": [
        {
          "output_type": "stream",
          "name": "stdout",
          "text": [
            "{'no': 0, 'yes': 0}\n"
          ]
        }
      ]
    },
    {
      "cell_type": "code",
      "metadata": {
        "colab": {
          "base_uri": "https://localhost:8080/"
        },
        "id": "r9t_1GD6Y0PY",
        "outputId": "d166e88f-fa1e-406f-f5ad-2b4b99656a17"
      },
      "source": [
        "print(pred_priors)"
      ],
      "execution_count": 38,
      "outputs": [
        {
          "output_type": "stream",
          "name": "stdout",
          "text": [
            "{'Outlook': {'Overcast': 0, 'Rainy': 0, 'Sunny': 0}, 'Temp': {'Cool': 0, 'Hot': 0, 'Mild': 0}, 'Humidity': {'High': 0, 'Normal': 0}, 'Windy': {'f': 0, 't': 0}}\n"
          ]
        }
      ]
    },
    {
      "cell_type": "code",
      "metadata": {
        "colab": {
          "base_uri": "https://localhost:8080/"
        },
        "id": "Xp5OtPp_Y8gT",
        "outputId": "7e080286-e30b-42b6-cc71-2caf2905084b"
      },
      "source": [
        "print(likelihoods)"
      ],
      "execution_count": 39,
      "outputs": [
        {
          "output_type": "stream",
          "name": "stdout",
          "text": [
            "{'Outlook': {'Overcast_no': 0, 'Overcast_yes': 0, 'Rainy_no': 0, 'Rainy_yes': 0, 'Sunny_no': 0, 'Sunny_yes': 0}, 'Temp': {'Cool_no': 0, 'Cool_yes': 0, 'Hot_no': 0, 'Hot_yes': 0, 'Mild_no': 0, 'Mild_yes': 0}, 'Humidity': {'High_no': 0, 'High_yes': 0, 'Normal_no': 0, 'Normal_yes': 0}, 'Windy': {'f_no': 0, 'f_yes': 0, 't_no': 0, 't_yes': 0}}\n"
          ]
        }
      ]
    },
    {
      "cell_type": "code",
      "metadata": {
        "id": "qcOPylNxZKlE"
      },
      "source": [
        "for outcome in np.unique(y_train):\n",
        "  outcome_count = sum(y_train == outcome)\n",
        "  Class_priors[outcome] = outcome_count/train_size"
      ],
      "execution_count": 40,
      "outputs": []
    },
    {
      "cell_type": "code",
      "metadata": {
        "colab": {
          "base_uri": "https://localhost:8080/"
        },
        "id": "U7wpn5HlZnAp",
        "outputId": "24bd6c7d-122c-4019-c997-0136ced8ad34"
      },
      "source": [
        "print(Class_priors)"
      ],
      "execution_count": 41,
      "outputs": [
        {
          "output_type": "stream",
          "name": "stdout",
          "text": [
            "{'no': 0.35714285714285715, 'yes': 0.6428571428571429}\n"
          ]
        }
      ]
    },
    {
      "cell_type": "code",
      "metadata": {
        "colab": {
          "base_uri": "https://localhost:8080/"
        },
        "id": "WDDmZWtCZ41G",
        "outputId": "ecb1c049-5f8d-41fd-cb40-093d9ff7b223"
      },
      "source": [
        "\"\"\" P(x|c) - Likelihood \"\"\"\n",
        "for feature in features:\n",
        "    for outcome in np.unique(y_train):\n",
        "        outcome_count = sum(y_train == outcome)\n",
        "        feat_likelihood = X_train[feature][y_train[y_train == outcome].index.values.tolist()].value_counts().to_dict()\n",
        "        print(feat_likelihood)\n",
        "        for feat_val, count in feat_likelihood.items():\n",
        "            likelihoods[feature][feat_val + '_' + outcome] = count/outcome_count"
      ],
      "execution_count": 42,
      "outputs": [
        {
          "output_type": "stream",
          "name": "stdout",
          "text": [
            "{'Rainy': 3, 'Sunny': 2}\n",
            "{'Overcast': 4, 'Sunny': 3, 'Rainy': 2}\n",
            "{'Mild': 2, 'Hot': 2, 'Cool': 1}\n",
            "{'Mild': 4, 'Cool': 3, 'Hot': 2}\n",
            "{'High': 4, 'Normal': 1}\n",
            "{'Normal': 6, 'High': 3}\n",
            "{'t': 3, 'f': 2}\n",
            "{'f': 6, 't': 3}\n"
          ]
        }
      ]
    },
    {
      "cell_type": "code",
      "metadata": {
        "colab": {
          "base_uri": "https://localhost:8080/"
        },
        "id": "L_eWY6mpcs2f",
        "outputId": "1f467281-cb15-4a8e-985e-e9661e4b7d59"
      },
      "source": [
        "print(likelihoods)"
      ],
      "execution_count": 43,
      "outputs": [
        {
          "output_type": "stream",
          "name": "stdout",
          "text": [
            "{'Outlook': {'Overcast_no': 0, 'Overcast_yes': 0.4444444444444444, 'Rainy_no': 0.6, 'Rainy_yes': 0.2222222222222222, 'Sunny_no': 0.4, 'Sunny_yes': 0.3333333333333333}, 'Temp': {'Cool_no': 0.2, 'Cool_yes': 0.3333333333333333, 'Hot_no': 0.4, 'Hot_yes': 0.2222222222222222, 'Mild_no': 0.4, 'Mild_yes': 0.4444444444444444}, 'Humidity': {'High_no': 0.8, 'High_yes': 0.3333333333333333, 'Normal_no': 0.2, 'Normal_yes': 0.6666666666666666}, 'Windy': {'f_no': 0.4, 'f_yes': 0.6666666666666666, 't_no': 0.6, 't_yes': 0.3333333333333333}}\n"
          ]
        }
      ]
    },
    {
      "cell_type": "code",
      "metadata": {
        "colab": {
          "base_uri": "https://localhost:8080/"
        },
        "id": "zW6hgP_kcwZw",
        "outputId": "016b4455-9653-4c92-fdd1-5cc6cfc3fd0e"
      },
      "source": [
        "\"\"\" P(x) - Evidence \"\"\"\n",
        "for feature in features:\n",
        "    feat_vals = X_train[feature].value_counts().to_dict()\n",
        "    print(feat_vals)\n",
        "    for feat_val, count in feat_vals.items():\n",
        "        pred_priors[feature][feat_val] = count/train_size"
      ],
      "execution_count": 44,
      "outputs": [
        {
          "output_type": "stream",
          "name": "stdout",
          "text": [
            "{'Sunny': 5, 'Rainy': 5, 'Overcast': 4}\n",
            "{'Mild': 6, 'Cool': 4, 'Hot': 4}\n",
            "{'High': 7, 'Normal': 7}\n",
            "{'f': 8, 't': 6}\n"
          ]
        }
      ]
    },
    {
      "cell_type": "code",
      "metadata": {
        "colab": {
          "base_uri": "https://localhost:8080/"
        },
        "id": "Iw3cnQvQc1-Q",
        "outputId": "2e34e8a2-2cec-4dbd-d8f8-e0fb1333d357"
      },
      "source": [
        "print(pred_priors)"
      ],
      "execution_count": 45,
      "outputs": [
        {
          "output_type": "stream",
          "name": "stdout",
          "text": [
            "{'Outlook': {'Overcast': 0.2857142857142857, 'Rainy': 0.35714285714285715, 'Sunny': 0.35714285714285715}, 'Temp': {'Cool': 0.2857142857142857, 'Hot': 0.2857142857142857, 'Mild': 0.42857142857142855}, 'Humidity': {'High': 0.5, 'Normal': 0.5}, 'Windy': {'f': 0.5714285714285714, 't': 0.42857142857142855}}\n"
          ]
        }
      ]
    },
    {
      "cell_type": "code",
      "metadata": {
        "colab": {
          "base_uri": "https://localhost:8080/"
        },
        "id": "UP75sL8jc21T",
        "outputId": "9273c564-4fbb-4770-b2ab-c607dafc1cd6"
      },
      "source": [
        "\"\"\" Calculates Posterior probability P(c|x) \"\"\"\n",
        "results = []\n",
        "qu = np.array([['Rainy','Mild', 'Normal', 't']])\n",
        "qu = np.array(qu)\n",
        "### qu = x_test\n",
        "## I am considering 0 f or this case but usually it will change depending upon the task\n",
        "m = 0  ## m = 2\n",
        "p = 0  ## p = 1/m\n",
        "for query in qu:\n",
        "    probs_outcome = {}\n",
        "    for outcome in np.unique(y_train):\n",
        "        prior = Class_priors[outcome]\n",
        "        likelihood = 1\n",
        "        evidence = 1\n",
        "\n",
        "        for feat, feat_val in zip(features, query):\n",
        "            likelihood *= likelihoods[feat][feat_val + '_' + outcome]\n",
        "            evidence *= pred_priors[feat][feat_val]\n",
        "\n",
        "        posterior = (likelihood * prior + m*p) / (evidence + m)\n",
        "        \n",
        "        probs_outcome[outcome] = posterior\n",
        "    print(probs_outcome)\n",
        "    result = max(probs_outcome, key = lambda x: probs_outcome[x])\n",
        "    results.append(result)\n",
        "print(results)"
      ],
      "execution_count": 46,
      "outputs": [
        {
          "output_type": "stream",
          "name": "stdout",
          "text": [
            "{'no': 0.3136, 'yes': 0.43017832647462273}\n",
            "['yes']\n"
          ]
        }
      ]
    },
    {
      "cell_type": "code",
      "metadata": {
        "colab": {
          "base_uri": "https://localhost:8080/"
        },
        "id": "6kxArAjWdIEg",
        "outputId": "d115dbd5-3788-4cc1-9f81-13e1a7ebc338"
      },
      "source": [
        "import numpy as np \n",
        "import pandas as pd \t\n",
        "import matplotlib.pyplot as plt \n",
        "import math\n",
        "\n",
        "\n",
        "class  NaiveBayes:\n",
        "\tdef __init__(self):\n",
        "\n",
        "\t\tself.features = list\n",
        "\t\tself.likelihoods = {}\n",
        "\t\tself.class_priors = {}\n",
        "\t\tself.pred_priors = {}\n",
        "\n",
        "\t\tself.X_train = np.array\n",
        "\t\tself.y_train = np.array\n",
        "\t\tself.train_size = int\n",
        "\t\tself.num_feats = int\n",
        "\n",
        "\tdef fit(self, X, y):\n",
        "\n",
        "\t\tself.features = list(X.columns)\n",
        "\t\tself.X_train = X\n",
        "\t\tself.y_train = y\n",
        "\t\tself.train_size = X.shape[0]\n",
        "\t\tself.num_feats = X.shape[1]\n",
        "\n",
        "\t\tfor feature in self.features:\n",
        "\t\t\tself.likelihoods[feature] = {}\n",
        "\t\t\tself.pred_priors[feature] = {}\n",
        "\n",
        "\t\t\tfor feat_val in np.unique(self.X_train[feature]):\n",
        "\t\t\t\tself.pred_priors[feature].update({feat_val: 0})\n",
        "\n",
        "\t\t\t\tfor outcome in np.unique(self.y_train):\n",
        "\t\t\t\t\tself.likelihoods[feature].update({feat_val+'_'+outcome:0})\n",
        "\t\t\t\t\tself.class_priors.update({outcome: 0})\n",
        "\n",
        "\t\tself._calc_class_prior()\n",
        "\t\tself._calc_likelihoods()\n",
        "\t\tself._calc_predictor_prior()\n",
        "\n",
        "\n",
        "\tdef _calc_class_prior(self):\n",
        "\n",
        "\t\t\"\"\" P(c) - Prior Class Probability \"\"\"\n",
        "\n",
        "\t\tfor outcome in np.unique(self.y_train):\n",
        "\t\t\toutcome_count = sum(self.y_train == outcome)\n",
        "\t\t\tself.class_priors[outcome] = outcome_count / self.train_size\n",
        "\n",
        "\n",
        "\tdef _calc_likelihoods(self):\n",
        "\n",
        "\t\t\"\"\" P(x|c) - Likelihood \"\"\"\n",
        "\n",
        "\t\tfor feature in self.features:\n",
        "\n",
        "\t\t\tfor outcome in np.unique(self.y_train):\n",
        "\t\t\t\toutcome_count = sum(self.y_train == outcome)\n",
        "\t\t\t\tfeat_likelihood = self.X_train[feature][self.y_train[self.y_train == outcome].index.values.tolist()].value_counts().to_dict()\n",
        "\n",
        "\t\t\t\tfor feat_val, count in feat_likelihood.items():\n",
        "\t\t\t\t\tself.likelihoods[feature][feat_val + '_' + outcome] = count/outcome_count\n",
        "\n",
        "\n",
        "\tdef _calc_predictor_prior(self):\n",
        "\n",
        "\t\t\"\"\" P(x) - Evidence \"\"\"\n",
        "\n",
        "\t\tfor feature in self.features:\n",
        "\t\t\tfeat_vals = self.X_train[feature].value_counts().to_dict()\n",
        "\n",
        "\t\t\tfor feat_val, count in feat_vals.items():\n",
        "\t\t\t\tself.pred_priors[feature][feat_val] = count/self.train_size\n",
        "\n",
        "\n",
        "\tdef predict(self, X):\n",
        "\n",
        "\t\t\"\"\" Calculates Posterior probability P(c|x) \"\"\"\n",
        "\t\tresults = []\n",
        "\t\tX = np.array(X)\n",
        "\n",
        "\t\tfor query in X:\n",
        "\t\t\tprobs_outcome = {}\n",
        "\t\t\tfor outcome in np.unique(self.y_train):\n",
        "\t\t\t\tprior = self.class_priors[outcome]\n",
        "\t\t\t\tlikelihood = 1\n",
        "\t\t\t\tevidence = 1\n",
        "\n",
        "\t\t\t\tfor feat, feat_val in zip(self.features, query):\n",
        "\t\t\t\t\tlikelihood *= self.likelihoods[feat][feat_val + '_' + outcome]\n",
        "\t\t\t\t\tevidence *= self.pred_priors[feat][feat_val]\n",
        "\n",
        "\t\t\t\tposterior = (likelihood * prior) / (evidence)\n",
        "\n",
        "\t\t\t\tprobs_outcome[outcome] = posterior\n",
        "\n",
        "\t\t\tresult = max(probs_outcome, key = lambda x: probs_outcome[x])\n",
        "\t\t\tresults.append(result)\n",
        "\n",
        "\t\treturn np.array(results)\n",
        "    \n",
        "\n",
        "#df = pd.read_csv('weather_data.txt',delimiter=\"\\t\")\n",
        "df = pd.read_csv(\"/content/drive/MyDrive/DataSet/Weather.csv\")\n",
        "X = df.drop([df.columns[-1]], axis = 1)\n",
        "y = df[df.columns[-1]]\n",
        "\n",
        "clf = NaiveBayes()\n",
        "clf.fit(X, y)\n",
        "\n",
        "#Query 1\n",
        "query = np.array([['Rainy','Mild', 'Normal', 't']])\n",
        "print(\"Query 1:- {} ---> {}\".format(query, clf.predict(query)))\n",
        "\n",
        "#Query 2:\n",
        "query = np.array([['Overcast','Cool', 'Normal', 't']])\n",
        "print(\"Query 2:- {} ---> {}\".format(query, clf.predict(query)))\n",
        "\n",
        "#Query 3:\n",
        "query = np.array([['Sunny','Hot', 'High', 't']])\n",
        "print(\"Query 3:- {} ---> {}\".format(query, clf.predict(query)))"
      ],
      "execution_count": 47,
      "outputs": [
        {
          "output_type": "stream",
          "name": "stdout",
          "text": [
            "Query 1:- [['Rainy' 'Mild' 'Normal' 't']] ---> ['yes']\n",
            "Query 2:- [['Overcast' 'Cool' 'Normal' 't']] ---> ['yes']\n",
            "Query 3:- [['Sunny' 'Hot' 'High' 't']] ---> ['no']\n"
          ]
        }
      ]
    },
    {
      "cell_type": "markdown",
      "metadata": {
        "id": "ps8xCe-Wi7pB"
      },
      "source": [
        "---\n",
        "**Implememnt KNN Algorithm**\n",
        "\n",
        "---\n"
      ]
    },
    {
      "cell_type": "code",
      "metadata": {
        "colab": {
          "base_uri": "https://localhost:8080/",
          "height": 173
        },
        "id": "GBQvU0u16liV",
        "outputId": "9f952212-9eb6-4924-c5d5-0b71d7ef6eda"
      },
      "source": [
        "import pandas as pd\n",
        "import numpy as np\n",
        "data = pd.read_csv('/content/drive/MyDrive/DataSet/acid_durability.csv')\n",
        "data.head()"
      ],
      "execution_count": 48,
      "outputs": [
        {
          "output_type": "execute_result",
          "data": {
            "text/html": [
              "<div>\n",
              "<style scoped>\n",
              "    .dataframe tbody tr th:only-of-type {\n",
              "        vertical-align: middle;\n",
              "    }\n",
              "\n",
              "    .dataframe tbody tr th {\n",
              "        vertical-align: top;\n",
              "    }\n",
              "\n",
              "    .dataframe thead th {\n",
              "        text-align: right;\n",
              "    }\n",
              "</style>\n",
              "<table border=\"1\" class=\"dataframe\">\n",
              "  <thead>\n",
              "    <tr style=\"text-align: right;\">\n",
              "      <th></th>\n",
              "      <th>Name</th>\n",
              "      <th>Acid Durability</th>\n",
              "      <th>Strength</th>\n",
              "      <th>Class</th>\n",
              "    </tr>\n",
              "  </thead>\n",
              "  <tbody>\n",
              "    <tr>\n",
              "      <th>0</th>\n",
              "      <td>Type-1</td>\n",
              "      <td>7</td>\n",
              "      <td>7</td>\n",
              "      <td>Bad</td>\n",
              "    </tr>\n",
              "    <tr>\n",
              "      <th>1</th>\n",
              "      <td>Type-2</td>\n",
              "      <td>7</td>\n",
              "      <td>4</td>\n",
              "      <td>Bad</td>\n",
              "    </tr>\n",
              "    <tr>\n",
              "      <th>2</th>\n",
              "      <td>Type-3</td>\n",
              "      <td>3</td>\n",
              "      <td>4</td>\n",
              "      <td>Good</td>\n",
              "    </tr>\n",
              "    <tr>\n",
              "      <th>3</th>\n",
              "      <td>Type-4</td>\n",
              "      <td>1</td>\n",
              "      <td>4</td>\n",
              "      <td>Good</td>\n",
              "    </tr>\n",
              "  </tbody>\n",
              "</table>\n",
              "</div>"
            ],
            "text/plain": [
              "     Name  Acid Durability  Strength Class\n",
              "0  Type-1                7         7   Bad\n",
              "1  Type-2                7         4   Bad\n",
              "2  Type-3                3         4  Good\n",
              "3  Type-4                1         4  Good"
            ]
          },
          "metadata": {},
          "execution_count": 48
        }
      ]
    },
    {
      "cell_type": "code",
      "metadata": {
        "id": "a9sNqXRB73ng"
      },
      "source": [
        "test_data = [3,7]"
      ],
      "execution_count": 49,
      "outputs": []
    },
    {
      "cell_type": "code",
      "metadata": {
        "id": "PqHrldps76Wm"
      },
      "source": [
        "new_data = data.drop('Name',axis=1)\n",
        "new_data1 = new_data.drop('Class',axis=1)"
      ],
      "execution_count": 50,
      "outputs": []
    },
    {
      "cell_type": "code",
      "metadata": {
        "colab": {
          "base_uri": "https://localhost:8080/"
        },
        "id": "jc6nJJBI78jq",
        "outputId": "18f5898f-2ad6-4f1f-f3c3-81a49ad17ac0"
      },
      "source": [
        "columns = list(new_data1)\n",
        "columns"
      ],
      "execution_count": 51,
      "outputs": [
        {
          "output_type": "execute_result",
          "data": {
            "text/plain": [
              "['Acid Durability', 'Strength']"
            ]
          },
          "metadata": {},
          "execution_count": 51
        }
      ]
    },
    {
      "cell_type": "code",
      "metadata": {
        "colab": {
          "base_uri": "https://localhost:8080/"
        },
        "id": "LEgsvw958Bfk",
        "outputId": "f2542969-cb10-460e-deb9-93f705a8c565"
      },
      "source": [
        "data_arr = []\n",
        "dist_arr = []\n",
        "\n",
        "for i in range(0,4):\n",
        "  for j in columns:\n",
        "    elem = data[j][i]\n",
        "    data_arr.append(elem)\n",
        "  print(data_arr)\n",
        "  dist = ((test_data[0]-data_arr[0]) **2 + (test_data[1]-data_arr[1])**2) **0.5\n",
        "  dist_arr.append(dist)\n",
        "  data_arr = []\n",
        "  print(dist)"
      ],
      "execution_count": 52,
      "outputs": [
        {
          "output_type": "stream",
          "name": "stdout",
          "text": [
            "[7, 7]\n",
            "4.0\n",
            "[7, 4]\n",
            "5.0\n",
            "[3, 4]\n",
            "3.0\n",
            "[1, 4]\n",
            "3.605551275463989\n"
          ]
        }
      ]
    },
    {
      "cell_type": "code",
      "metadata": {
        "colab": {
          "base_uri": "https://localhost:8080/",
          "height": 173
        },
        "id": "jXz7mZFM8D7v",
        "outputId": "db627791-f191-402c-897f-ce9405909e61"
      },
      "source": [
        "result = pd.DataFrame(dist_arr)\n",
        "result"
      ],
      "execution_count": 53,
      "outputs": [
        {
          "output_type": "execute_result",
          "data": {
            "text/html": [
              "<div>\n",
              "<style scoped>\n",
              "    .dataframe tbody tr th:only-of-type {\n",
              "        vertical-align: middle;\n",
              "    }\n",
              "\n",
              "    .dataframe tbody tr th {\n",
              "        vertical-align: top;\n",
              "    }\n",
              "\n",
              "    .dataframe thead th {\n",
              "        text-align: right;\n",
              "    }\n",
              "</style>\n",
              "<table border=\"1\" class=\"dataframe\">\n",
              "  <thead>\n",
              "    <tr style=\"text-align: right;\">\n",
              "      <th></th>\n",
              "      <th>0</th>\n",
              "    </tr>\n",
              "  </thead>\n",
              "  <tbody>\n",
              "    <tr>\n",
              "      <th>0</th>\n",
              "      <td>4.000000</td>\n",
              "    </tr>\n",
              "    <tr>\n",
              "      <th>1</th>\n",
              "      <td>5.000000</td>\n",
              "    </tr>\n",
              "    <tr>\n",
              "      <th>2</th>\n",
              "      <td>3.000000</td>\n",
              "    </tr>\n",
              "    <tr>\n",
              "      <th>3</th>\n",
              "      <td>3.605551</td>\n",
              "    </tr>\n",
              "  </tbody>\n",
              "</table>\n",
              "</div>"
            ],
            "text/plain": [
              "          0\n",
              "0  4.000000\n",
              "1  5.000000\n",
              "2  3.000000\n",
              "3  3.605551"
            ]
          },
          "metadata": {},
          "execution_count": 53
        }
      ]
    },
    {
      "cell_type": "code",
      "metadata": {
        "id": "hPs-JbgD8GVT"
      },
      "source": [
        "k = 3\n",
        "result['Acid Durability'] = new_data1['Acid Durability']\n",
        "result['Strength'] = new_data1['Strength']\n",
        "result['Class'] = new_data['Class']"
      ],
      "execution_count": 54,
      "outputs": []
    },
    {
      "cell_type": "code",
      "metadata": {
        "colab": {
          "base_uri": "https://localhost:8080/",
          "height": 142
        },
        "id": "fRMDwMDR8Oxe",
        "outputId": "2fd93b60-e155-425c-9853-533da2a27e00"
      },
      "source": [
        "result.nsmallest(3,[0])"
      ],
      "execution_count": 55,
      "outputs": [
        {
          "output_type": "execute_result",
          "data": {
            "text/html": [
              "<div>\n",
              "<style scoped>\n",
              "    .dataframe tbody tr th:only-of-type {\n",
              "        vertical-align: middle;\n",
              "    }\n",
              "\n",
              "    .dataframe tbody tr th {\n",
              "        vertical-align: top;\n",
              "    }\n",
              "\n",
              "    .dataframe thead th {\n",
              "        text-align: right;\n",
              "    }\n",
              "</style>\n",
              "<table border=\"1\" class=\"dataframe\">\n",
              "  <thead>\n",
              "    <tr style=\"text-align: right;\">\n",
              "      <th></th>\n",
              "      <th>0</th>\n",
              "      <th>Acid Durability</th>\n",
              "      <th>Strength</th>\n",
              "      <th>Class</th>\n",
              "    </tr>\n",
              "  </thead>\n",
              "  <tbody>\n",
              "    <tr>\n",
              "      <th>2</th>\n",
              "      <td>3.000000</td>\n",
              "      <td>3</td>\n",
              "      <td>4</td>\n",
              "      <td>Good</td>\n",
              "    </tr>\n",
              "    <tr>\n",
              "      <th>3</th>\n",
              "      <td>3.605551</td>\n",
              "      <td>1</td>\n",
              "      <td>4</td>\n",
              "      <td>Good</td>\n",
              "    </tr>\n",
              "    <tr>\n",
              "      <th>0</th>\n",
              "      <td>4.000000</td>\n",
              "      <td>7</td>\n",
              "      <td>7</td>\n",
              "      <td>Bad</td>\n",
              "    </tr>\n",
              "  </tbody>\n",
              "</table>\n",
              "</div>"
            ],
            "text/plain": [
              "          0  Acid Durability  Strength Class\n",
              "2  3.000000                3         4  Good\n",
              "3  3.605551                1         4  Good\n",
              "0  4.000000                7         7   Bad"
            ]
          },
          "metadata": {},
          "execution_count": 55
        }
      ]
    },
    {
      "cell_type": "markdown",
      "metadata": {
        "id": "J8ED9_dEi7Mm"
      },
      "source": [
        "---\n",
        "**Implemement Clustering Algorithm**\n",
        "\n",
        "---\n"
      ]
    },
    {
      "cell_type": "code",
      "metadata": {
        "colab": {
          "base_uri": "https://localhost:8080/",
          "height": 266
        },
        "id": "tG76MSVC3_ey",
        "outputId": "67002ea0-b979-4324-b349-c3cce6ea18df"
      },
      "source": [
        "import pandas as pd\n",
        "data = pd.read_csv(\"/content/drive/MyDrive/DataSet/KmeanData.csv\")\n",
        "data"
      ],
      "execution_count": 56,
      "outputs": [
        {
          "output_type": "execute_result",
          "data": {
            "text/html": [
              "<div>\n",
              "<style scoped>\n",
              "    .dataframe tbody tr th:only-of-type {\n",
              "        vertical-align: middle;\n",
              "    }\n",
              "\n",
              "    .dataframe tbody tr th {\n",
              "        vertical-align: top;\n",
              "    }\n",
              "\n",
              "    .dataframe thead th {\n",
              "        text-align: right;\n",
              "    }\n",
              "</style>\n",
              "<table border=\"1\" class=\"dataframe\">\n",
              "  <thead>\n",
              "    <tr style=\"text-align: right;\">\n",
              "      <th></th>\n",
              "      <th>Individual</th>\n",
              "      <th>Variable1</th>\n",
              "      <th>Variable2</th>\n",
              "    </tr>\n",
              "  </thead>\n",
              "  <tbody>\n",
              "    <tr>\n",
              "      <th>0</th>\n",
              "      <td>1</td>\n",
              "      <td>1.0</td>\n",
              "      <td>1.0</td>\n",
              "    </tr>\n",
              "    <tr>\n",
              "      <th>1</th>\n",
              "      <td>2</td>\n",
              "      <td>1.5</td>\n",
              "      <td>2.0</td>\n",
              "    </tr>\n",
              "    <tr>\n",
              "      <th>2</th>\n",
              "      <td>3</td>\n",
              "      <td>3.0</td>\n",
              "      <td>4.0</td>\n",
              "    </tr>\n",
              "    <tr>\n",
              "      <th>3</th>\n",
              "      <td>4</td>\n",
              "      <td>5.0</td>\n",
              "      <td>7.0</td>\n",
              "    </tr>\n",
              "    <tr>\n",
              "      <th>4</th>\n",
              "      <td>5</td>\n",
              "      <td>3.5</td>\n",
              "      <td>5.0</td>\n",
              "    </tr>\n",
              "    <tr>\n",
              "      <th>5</th>\n",
              "      <td>6</td>\n",
              "      <td>4.5</td>\n",
              "      <td>5.0</td>\n",
              "    </tr>\n",
              "    <tr>\n",
              "      <th>6</th>\n",
              "      <td>7</td>\n",
              "      <td>3.5</td>\n",
              "      <td>4.5</td>\n",
              "    </tr>\n",
              "  </tbody>\n",
              "</table>\n",
              "</div>"
            ],
            "text/plain": [
              "   Individual  Variable1  Variable2\n",
              "0           1        1.0        1.0\n",
              "1           2        1.5        2.0\n",
              "2           3        3.0        4.0\n",
              "3           4        5.0        7.0\n",
              "4           5        3.5        5.0\n",
              "5           6        4.5        5.0\n",
              "6           7        3.5        4.5"
            ]
          },
          "metadata": {},
          "execution_count": 56
        }
      ]
    },
    {
      "cell_type": "code",
      "metadata": {
        "colab": {
          "base_uri": "https://localhost:8080/"
        },
        "id": "jJrwrU7R4UXW",
        "outputId": "7a8b59e2-af4f-484c-cb68-f18d91a8337b"
      },
      "source": [
        "X = data.iloc[:, [1, 2]].values\n",
        "X"
      ],
      "execution_count": 57,
      "outputs": [
        {
          "output_type": "execute_result",
          "data": {
            "text/plain": [
              "array([[1. , 1. ],\n",
              "       [1.5, 2. ],\n",
              "       [3. , 4. ],\n",
              "       [5. , 7. ],\n",
              "       [3.5, 5. ],\n",
              "       [4.5, 5. ],\n",
              "       [3.5, 4.5]])"
            ]
          },
          "metadata": {},
          "execution_count": 57
        }
      ]
    },
    {
      "cell_type": "code",
      "metadata": {
        "colab": {
          "base_uri": "https://localhost:8080/",
          "height": 513
        },
        "id": "0hPO8A2t4XJm",
        "outputId": "e3d8155f-1751-42fb-e4af-8136088d720d"
      },
      "source": [
        "import matplotlib.pyplot as plt\n",
        "from matplotlib import style\n",
        "style.use('ggplot')\n",
        "import numpy as np\n",
        "\n",
        "X = np.array([[1. , 1. ],\n",
        "       [1.5, 2. ],\n",
        "       [3. , 4. ],\n",
        "       [5. , 7. ],\n",
        "       [3.5, 5. ],\n",
        "       [4.5, 5. ],\n",
        "       [3.5, 4.5]])\n",
        "\n",
        "plt.scatter(X[:,0], X[:,1], s=150)\n",
        "plt.show()\n",
        "\n",
        "colors = 10*[\"g\",\"r\",\"c\",\"b\",\"k\"]\n",
        "\n",
        "\n",
        "class K_Means:\n",
        "    def __init__(self, k=2, tol=0.001, max_iter=300):\n",
        "        self.k = k\n",
        "        self.tol = tol\n",
        "        self.max_iter = max_iter\n",
        "\n",
        "    def fit(self,data):\n",
        "\n",
        "        self.centroids = {}\n",
        "\n",
        "        for i in range(self.k):\n",
        "            self.centroids[i] = data[i]\n",
        "\n",
        "        for i in range(self.max_iter):\n",
        "            self.classifications = {}\n",
        "\n",
        "            for i in range(self.k):\n",
        "                self.classifications[i] = []\n",
        "\n",
        "            for featureset in data:\n",
        "                distances = [np.linalg.norm(featureset-self.centroids[centroid]) for centroid in self.centroids]\n",
        "                classification = distances.index(min(distances))\n",
        "                self.classifications[classification].append(featureset)\n",
        "\n",
        "            prev_centroids = dict(self.centroids)\n",
        "\n",
        "            for classification in self.classifications:\n",
        "                self.centroids[classification] = np.average(self.classifications[classification],axis=0)\n",
        "            \n",
        "\n",
        "clf = K_Means()\n",
        "clf.fit(X)\n",
        "\n",
        "for centroid in clf.centroids:\n",
        "    plt.scatter(clf.centroids[centroid][0], clf.centroids[centroid][1],\n",
        "                marker=\"o\", color=\"k\", s=150, linewidths=5)\n",
        "\n",
        "for classification in clf.classifications:\n",
        "    color = colors[classification]\n",
        "    for featureset in clf.classifications[classification]:\n",
        "        plt.scatter(featureset[0], featureset[1], marker=\"x\", color=color, s=150, linewidths=5)\n",
        "        \n",
        "plt.show()           "
      ],
      "execution_count": 58,
      "outputs": [
        {
          "output_type": "display_data",
          "data": {
            "image/png": "[encoded data removed]",
            "text/plain": [
              "<Figure size 432x288 with 1 Axes>"
            ]
          },
          "metadata": {}
        },
        {
          "output_type": "display_data",
          "data": {
            "image/png": "[encoded data removed]",
            "text/plain": [
              "<Figure size 432x288 with 1 Axes>"
            ]
          },
          "metadata": {}
        }
      ]
    }
  ]
}